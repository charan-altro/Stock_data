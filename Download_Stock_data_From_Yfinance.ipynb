{
 "cells": [
  {
   "cell_type": "code",
   "execution_count": 1,
   "metadata": {},
   "outputs": [],
   "source": [
    "import yfinance as yf\n",
    "import pandas as pd\n",
    "import numpy as np\n",
    "#from pandas_datareader import data, wb\n",
    "import datetime"
   ]
  },
  {
   "cell_type": "code",
   "execution_count": 2,
   "metadata": {},
   "outputs": [
    {
     "name": "stdout",
     "output_type": "stream",
     "text": [
      "285\n"
     ]
    }
   ],
   "source": [
    "stock = pd.read_csv(\"New_screener_NS.csv\")\n",
    "Tickers = stock['Symbol'].tolist()\n",
    "print(len(Tickers))\n",
    "#print(Tickers)"
   ]
  },
  {
   "cell_type": "code",
   "execution_count": 5,
   "metadata": {},
   "outputs": [],
   "source": [
    "import os\n",
    "import yfinance as yf\n",
    "Tickers = list(Tickers)\n",
    "def get_data():\n",
    "    if not os.path.exists('New_screener_NS_yfinance'):\n",
    "        os.makedirs('New_screener_NS_yfinance')\n",
    "    else:\n",
    "        for i in range (len(Tickers)):\n",
    "            if not os.path.exists(\"New_screener_NS_yfinance/\"+ Tickers[i] + \".csv\"):\n",
    "                df =  yf.download(Tickers[i],start = \"2008-12-30\" , verify=False)\n",
    "                df.reset_index(inplace=True)\n",
    "                df.set_index(\"Date\", inplace=True)\n",
    "                df.to_csv(\"New_screener_NS_yfinance/\"+ Tickers[i] + \".csv\")\n",
    "            else:\n",
    "                print('Already have ' + Tickers[i])\n",
    "get_data()"
   ]
  },
  {
   "cell_type": "code",
   "execution_count": null,
   "metadata": {},
   "outputs": [],
   "source": []
  },
  {
   "cell_type": "code",
   "execution_count": null,
   "metadata": {},
   "outputs": [],
   "source": []
  }
 ],
 "metadata": {
  "kernelspec": {
   "display_name": "Python 3",
   "language": "python",
   "name": "python3"
  },
  "language_info": {
   "codemirror_mode": {
    "name": "ipython",
    "version": 3
   },
   "file_extension": ".py",
   "mimetype": "text/x-python",
   "name": "python",
   "nbconvert_exporter": "python",
   "pygments_lexer": "ipython3",
   "version": "3.7.6"
  }
 },
 "nbformat": 4,
 "nbformat_minor": 4
}
